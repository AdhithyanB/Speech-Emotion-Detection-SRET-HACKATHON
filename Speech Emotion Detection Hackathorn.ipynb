{
 "cells": [
  {
   "cell_type": "markdown",
   "id": "5eb84246",
   "metadata": {},
   "source": [
    "# Speech Emotion Recognition - SRET Hackathon\n",
    "\n",
    "### Our Team members:\n",
    "Kumaresh N M - E0320004<br>\n",
    "Adhithyan B - E0320005<br>\n",
    "Dhrish S Kumar - E0320008<br>\n",
    "Rohit A Ch - E0320022\n"
   ]
  },
  {
   "cell_type": "markdown",
   "id": "9acc5756",
   "metadata": {},
   "source": [
    "***Importing Libraries***"
   ]
  },
  {
   "cell_type": "code",
   "execution_count": 1,
   "id": "8567526a",
   "metadata": {},
   "outputs": [],
   "source": [
    "# pip install librosa soundfile numpy sklearn pyaudio\n",
    "import librosa\n",
    "import soundfile\n",
    "import os\n",
    "import glob\n",
    "import pickle\n",
    "import numpy as np\n",
    "from sklearn.model_selection import train_test_split\n",
    "from sklearn.neural_network import MLPClassifier\n",
    "from sklearn.metrics import accuracy_score\n",
    "import pyaudio\n",
    "import wave\n",
    "from scipy.io.wavfile import write"
   ]
  },
  {
   "cell_type": "markdown",
   "id": "25a0078a",
   "metadata": {},
   "source": [
    "***Defining Emotions in the RAVDESS Dataset***"
   ]
  },
  {
   "cell_type": "code",
   "execution_count": null,
   "id": "7d5cec04",
   "metadata": {},
   "outputs": [],
   "source": [
    "emotions = {\n",
    "    '01': 'neutral',\n",
    "    '02': 'calm',\n",
    "    '03': 'happy',\n",
    "    '04': 'sad',\n",
    "    '05': 'angry',\n",
    "    '06': 'fearful',\n",
    "    '07': 'disgust',\n",
    "    '08': 'surprised'\n",
    "}\n",
    "# Emotions to observe\n",
    "observed_emotions = ['calm', 'happy', 'fearful', 'disgust']\n"
   ]
  },
  {
   "cell_type": "markdown",
   "id": "57d9a46e",
   "metadata": {},
   "source": [
    "***MLP Classifier***"
   ]
  },
  {
   "cell_type": "code",
   "execution_count": null,
   "id": "b23b888e",
   "metadata": {},
   "outputs": [],
   "source": [
    "\n",
    "model = MLPClassifier(alpha=0.01, batch_size=256, epsilon=1e-08,\n",
    "                      hidden_layer_sizes=(300,), learning_rate='adaptive', max_iter=500)\n",
    "\n"
   ]
  },
  {
   "cell_type": "markdown",
   "id": "8cdaf421",
   "metadata": {},
   "source": [
    "***Function Definition for recording audio***"
   ]
  },
  {
   "cell_type": "code",
   "execution_count": 4,
   "id": "e1890eb9",
   "metadata": {},
   "outputs": [],
   "source": [
    "\n",
    "# Recording user audio\n",
    "def recordAudio():\n",
    "    chunk = 1024  # Record in chunks of 1024 samples\n",
    "    sample_format = pyaudio.paInt16  # 16 bits per sample\n",
    "    channels = 1\n",
    "    fs = 48100  # Record at 44100 samples per second //as per ravdess dataset the frequecy is 48kHz\n",
    "    seconds = 5\n",
    "    filename = \"C:\\\\Users\\\\Rohit Anand\\\\Downloads\\\\Hackathon SRET\\\\Actor_01\\\\03-01-08-02-02-02-01.wav\"\n",
    "\n",
    "    p = pyaudio.PyAudio()  # Create an interface to PortAudio\n",
    "\n",
    "    print('Recording')\n",
    "\n",
    "    stream = p.open(format=sample_format,\n",
    "                    channels=channels,\n",
    "                    rate=fs,\n",
    "                    frames_per_buffer=chunk,\n",
    "                    input=True)\n",
    "\n",
    "    frames = []  # Initialize array to store frames\n",
    "\n",
    "    # Store data in chunks for 10 seconds\n",
    "    for i in range(0, int(fs / chunk * seconds)):\n",
    "        data = stream.read(chunk)\n",
    "        frames.append(data)\n",
    "\n",
    "    # Stop and close the stream\n",
    "    stream.stop_stream()\n",
    "    stream.close()\n",
    "    # Terminate the PortAudio interface\n",
    "    p.terminate()\n",
    "\n",
    "    print('Finished recording')\n",
    "\n",
    "    # Save the recorded data as a WAV file\n",
    "    wf = wave.open(filename, 'wb')\n",
    "    wf.setnchannels(channels)\n",
    "    wf.setsampwidth(p.get_sample_size(sample_format))\n",
    "    wf.setframerate(fs)\n",
    "    wf.writeframes(b''.join(frames))\n",
    "    wf.close()"
   ]
  },
  {
   "cell_type": "markdown",
   "id": "f96abca0",
   "metadata": {},
   "source": [
    "***Function definition for extract feature***"
   ]
  },
  {
   "cell_type": "code",
   "execution_count": 5,
   "id": "2ea1fd8e",
   "metadata": {},
   "outputs": [],
   "source": [
    "\n",
    "# Extract features (mfcc, chroma, mel) from a sound file\n",
    "def extract_feature(file_name, mfcc, chroma, mel):\n",
    "    with soundfile.SoundFile(file_name) as sound_file:\n",
    "        X = sound_file.read(dtype=\"float32\")\n",
    "        sample_rate = sound_file.samplerate\n",
    "        if chroma:\n",
    "            stft = np.abs(librosa.stft(X))\n",
    "        result = np.array([])\n",
    "        if mfcc:\n",
    "            mfccs = np.mean(librosa.feature.mfcc(\n",
    "                y=X, sr=sample_rate, n_mfcc=40).T, axis=0)\n",
    "            result = np.hstack((result, mfccs))\n",
    "        if chroma:\n",
    "            chroma = np.mean(librosa.feature.chroma_stft(\n",
    "                S=stft, sr=sample_rate).T, axis=0)\n",
    "            result = np.hstack((result, chroma))\n",
    "        if mel:\n",
    "            mel = np.mean(librosa.feature.melspectrogram(\n",
    "                X, sr=sample_rate).T, axis=0)\n",
    "            result = np.hstack((result, mel))\n",
    "    return result\n"
   ]
  },
  {
   "cell_type": "markdown",
   "id": "3e92c5a5",
   "metadata": {},
   "source": [
    "***Function Definition for loading the dataset***"
   ]
  },
  {
   "cell_type": "code",
   "execution_count": 6,
   "id": "ba7679cc",
   "metadata": {},
   "outputs": [],
   "source": [
    "\n",
    "# Load the data and extract features for each sound file\n",
    "def load_data(test_size=0.2):\n",
    "    x, y = [], []\n",
    "    for file in glob.glob(\"C:\\\\Users\\\\Rohit Anand\\\\Downloads\\\\Hackathon SRET\\\\Actor_*\\\\*.wav\"):\n",
    "   \n",
    "        file_name = os.path.basename(file)\n",
    "        emotion = emotions[file_name.split(\"-\")[2]]\n",
    "        \n",
    "        #print(\"File name = {} , emotion = {}\".format(file_name, emotion))\n",
    "        \n",
    "        if emotion not in observed_emotions:\n",
    "            continue\n",
    "        feature = extract_feature(file, mfcc=True, chroma=True, mel=True)\n",
    "        x.append(feature)\n",
    "        y.append(emotion)\n",
    "    return train_test_split(np.array(x), y, test_size=test_size, random_state=9)\n"
   ]
  },
  {
   "cell_type": "markdown",
   "id": "ead50718",
   "metadata": {},
   "source": [
    "***Function definition for training model***"
   ]
  },
  {
   "cell_type": "code",
   "execution_count": 7,
   "id": "f8f641c9",
   "metadata": {},
   "outputs": [],
   "source": [
    "\n",
    "# to train model if started program\n",
    "def trainModel():\n",
    "\n",
    "    # Split the dataset\n",
    "    x_train, x_test, y_train, y_test = load_data(test_size=0.25)\n",
    "    \n",
    "    #print(x_train)\n",
    "    #print(\"\\n\")\n",
    "    #print(x_test)\n",
    "\n",
    "    # Get the shape of the training and testing datasets\n",
    "    print((x_train.shape[0], x_test.shape[0]))\n",
    "\n",
    "    # Get the number of features extracted\n",
    "    print(f'Features extracted: {x_train.shape[1]}')\n",
    "\n",
    "    # Train the model\n",
    "    model.fit(x_train, y_train)\n",
    "\n",
    "    # Predict for the test set\n",
    "    y_pred = model.predict(x_test)\n",
    "\n",
    "    # Calculate the accuracy of our model\n",
    "    accuracy = accuracy_score(y_true=y_test, y_pred=y_pred)\n",
    "\n",
    "    # Print the accuracy\n",
    "    print(\"Accuracy: {:.2f}%\".format(accuracy*100))\n"
   ]
  },
  {
   "cell_type": "markdown",
   "id": "d6fea8d2",
   "metadata": {},
   "source": [
    "***Predicting the recorded audio***"
   ]
  },
  {
   "cell_type": "code",
   "execution_count": 8,
   "id": "46a1477b",
   "metadata": {},
   "outputs": [],
   "source": [
    "def record_predictAudio():\n",
    "    x_predictAudio = []\n",
    "    recordAudio() #Record audio to predict\n",
    "    file = \"C:\\\\Users\\\\Rohit Anand\\\\Downloads\\\\Hackathon SRET\\\\Actor_01\\\\03-01-08-02-02-02-01.wav\"\n",
    "    \n",
    "    #Recorded audio filepath\n",
    "    featurePredictAudio = extract_feature(file, mfcc=True, chroma=True, mel=True) #extract features of recorded audio\n",
    "    x_predictAudio.append(featurePredictAudio)\n",
    "    y_predictAudio = model.predict(np.array(x_predictAudio))\n",
    "    print(\"Emotion Predicted: {}\".format(y_predictAudio))\n",
    "    os.remove(file)\n"
   ]
  },
  {
   "cell_type": "markdown",
   "id": "21e98694",
   "metadata": {},
   "source": [
    "***Predicting the pre-recorded audio***"
   ]
  },
  {
   "cell_type": "code",
   "execution_count": null,
   "id": "13c58f7f",
   "metadata": {},
   "outputs": [],
   "source": [
    "def predictAudio():\n",
    "    file = input(\"Please enter path to your file.\\n\")\n",
    "    x_predictAudio = []\n",
    "    featurePredictAudio = extract_feature(file, mfcc=True, chroma=True, mel=True) \n",
    "    x_predictAudio.append(featurePredictAudio)\n",
    "    y_predictAudio = model.predict(np.array(x_predictAudio))\n",
    "    print(\"Emotion Predicted: {}\".format(y_predictAudio))\n",
    "\n"
   ]
  },
  {
   "cell_type": "code",
   "execution_count": null,
   "id": "81a58bbf",
   "metadata": {},
   "outputs": [
    {
     "name": "stdout",
     "output_type": "stream",
     "text": [
      "Enter 1 to create and train model. \n",
      "Enter 2 to record and predict audio. \n",
      "Enter 3 to predict on pre-recorded audio. \n",
      "Enter 4 to quit. \n",
      "1\n"
     ]
    },
    {
     "name": "stderr",
     "output_type": "stream",
     "text": [
      "<ipython-input-5-c9a34ae3d8aa>:18: FutureWarning: Pass y=[0. 0. 0. ... 0. 0. 0.] as keyword args. From version 0.10 passing these as positional arguments will result in an error\n",
      "  mel = np.mean(librosa.feature.melspectrogram(\n",
      "<ipython-input-5-c9a34ae3d8aa>:18: FutureWarning: Pass y=[0.0000000e+00 3.0517578e-05 3.0517578e-05 ... 0.0000000e+00 0.0000000e+00\n",
      " 0.0000000e+00] as keyword args. From version 0.10 passing these as positional arguments will result in an error\n",
      "  mel = np.mean(librosa.feature.melspectrogram(\n",
      "<ipython-input-5-c9a34ae3d8aa>:18: FutureWarning: Pass y=[ 0.0000000e+00  0.0000000e+00 -3.0517578e-05 ... -3.0517578e-05\n",
      " -3.0517578e-05 -3.0517578e-05] as keyword args. From version 0.10 passing these as positional arguments will result in an error\n",
      "  mel = np.mean(librosa.feature.melspectrogram(\n",
      "<ipython-input-5-c9a34ae3d8aa>:18: FutureWarning: Pass y=[3.0517578e-05 3.0517578e-05 3.0517578e-05 ... 0.0000000e+00 0.0000000e+00\n",
      " 0.0000000e+00] as keyword args. From version 0.10 passing these as positional arguments will result in an error\n",
      "  mel = np.mean(librosa.feature.melspectrogram(\n",
      "<ipython-input-5-c9a34ae3d8aa>:18: FutureWarning: Pass y=[0.0000000e+00 0.0000000e+00 0.0000000e+00 ... 3.0517578e-05 0.0000000e+00\n",
      " 0.0000000e+00] as keyword args. From version 0.10 passing these as positional arguments will result in an error\n",
      "  mel = np.mean(librosa.feature.melspectrogram(\n",
      "<ipython-input-5-c9a34ae3d8aa>:18: FutureWarning: Pass y=[0.0000000e+00 0.0000000e+00 3.0517578e-05 ... 0.0000000e+00 0.0000000e+00\n",
      " 0.0000000e+00] as keyword args. From version 0.10 passing these as positional arguments will result in an error\n",
      "  mel = np.mean(librosa.feature.melspectrogram(\n",
      "<ipython-input-5-c9a34ae3d8aa>:18: FutureWarning: Pass y=[0.0000000e+00 3.0517578e-05 0.0000000e+00 ... 0.0000000e+00 0.0000000e+00\n",
      " 0.0000000e+00] as keyword args. From version 0.10 passing these as positional arguments will result in an error\n",
      "  mel = np.mean(librosa.feature.melspectrogram(\n",
      "<ipython-input-5-c9a34ae3d8aa>:18: FutureWarning: Pass y=[1.5258789e-04 1.5258789e-04 9.1552734e-05 ... 0.0000000e+00 0.0000000e+00\n",
      " 0.0000000e+00] as keyword args. From version 0.10 passing these as positional arguments will result in an error\n",
      "  mel = np.mean(librosa.feature.melspectrogram(\n",
      "<ipython-input-5-c9a34ae3d8aa>:18: FutureWarning: Pass y=[-0.00091553 -0.00091553 -0.00097656 ... -0.0017395  -0.0017395\n",
      " -0.0017395 ] as keyword args. From version 0.10 passing these as positional arguments will result in an error\n",
      "  mel = np.mean(librosa.feature.melspectrogram(\n",
      "<ipython-input-5-c9a34ae3d8aa>:18: FutureWarning: Pass y=[5.1879883e-04 2.4414062e-04 1.5258789e-04 ... 0.0000000e+00 0.0000000e+00\n",
      " 6.1035156e-05] as keyword args. From version 0.10 passing these as positional arguments will result in an error\n",
      "  mel = np.mean(librosa.feature.melspectrogram(\n",
      "<ipython-input-5-c9a34ae3d8aa>:18: FutureWarning: Pass y=[-9.1552734e-05 -1.2207031e-04 -6.1035156e-05 ...  1.0986328e-03\n",
      "  3.3569336e-04 -3.0517578e-05] as keyword args. From version 0.10 passing these as positional arguments will result in an error\n",
      "  mel = np.mean(librosa.feature.melspectrogram(\n",
      "<ipython-input-5-c9a34ae3d8aa>:18: FutureWarning: Pass y=[ 0.0000000e+00  0.0000000e+00 -3.0517578e-05 ...  9.1552734e-04\n",
      "  8.8500977e-04  4.8828125e-04] as keyword args. From version 0.10 passing these as positional arguments will result in an error\n",
      "  mel = np.mean(librosa.feature.melspectrogram(\n",
      "<ipython-input-5-c9a34ae3d8aa>:18: FutureWarning: Pass y=[2.5726318e-02 3.1707764e-02 3.5552979e-02 ... 0.0000000e+00 3.0517578e-05\n",
      " 0.0000000e+00] as keyword args. From version 0.10 passing these as positional arguments will result in an error\n",
      "  mel = np.mean(librosa.feature.melspectrogram(\n",
      "<ipython-input-5-c9a34ae3d8aa>:18: FutureWarning: Pass y=[ 0.          0.          0.         ... -0.00039673 -0.00012207\n",
      "  0.        ] as keyword args. From version 0.10 passing these as positional arguments will result in an error\n",
      "  mel = np.mean(librosa.feature.melspectrogram(\n",
      "<ipython-input-5-c9a34ae3d8aa>:18: FutureWarning: Pass y=[-1.0375977e-03 -7.9345703e-04 -3.0517578e-05 ...  0.0000000e+00\n",
      "  0.0000000e+00  0.0000000e+00] as keyword args. From version 0.10 passing these as positional arguments will result in an error\n",
      "  mel = np.mean(librosa.feature.melspectrogram(\n",
      "<ipython-input-5-c9a34ae3d8aa>:18: FutureWarning: Pass y=[3.0517578e-05 2.7465820e-04 5.1879883e-04 ... 0.0000000e+00 0.0000000e+00\n",
      " 0.0000000e+00] as keyword args. From version 0.10 passing these as positional arguments will result in an error\n",
      "  mel = np.mean(librosa.feature.melspectrogram(\n",
      "C:\\Users\\Rohit Anand\\anaconda3\\lib\\site-packages\\sklearn\\neural_network\\_multilayer_perceptron.py:542: UserWarning: Got `batch_size` less than 1 or larger than sample size. It is going to be clipped\n",
      "  warnings.warn(\"Got `batch_size` less than 1 or larger than \"\n"
     ]
    },
    {
     "name": "stdout",
     "output_type": "stream",
     "text": [
      "(24, 9)\n",
      "Features extracted: 180\n",
      "Accuracy: 33.33%\n",
      "Enter 1 to create and train model. \n",
      "Enter 2 to record and predict audio. \n",
      "Enter 3 to predict on pre-recorded audio. \n",
      "Enter 4 to quit. \n",
      "2\n",
      "Recording\n"
     ]
    },
    {
     "name": "stderr",
     "output_type": "stream",
     "text": [
      "<ipython-input-5-c9a34ae3d8aa>:18: FutureWarning: Pass y=[ 0.0000000e+00  0.0000000e+00 -3.0517578e-05 ...  2.1179199e-02\n",
      "  1.7456055e-02  1.2237549e-02] as keyword args. From version 0.10 passing these as positional arguments will result in an error\n",
      "  mel = np.mean(librosa.feature.melspectrogram(\n"
     ]
    },
    {
     "name": "stdout",
     "output_type": "stream",
     "text": [
      "Finished recording\n",
      "Emotion Predicted: ['fearful']\n",
      "Enter 1 to create and train model. \n",
      "Enter 2 to record and predict audio. \n",
      "Enter 3 to predict on pre-recorded audio. \n",
      "Enter 4 to quit. \n",
      "3\n",
      "Please enter path to your file.\n",
      "C:\\Users\\Rohit Anand\\Downloads\\Hackathon SRET\\Actor_01\\03-01-02-02-02-01-01.wav\n"
     ]
    },
    {
     "name": "stderr",
     "output_type": "stream",
     "text": [
      "<ipython-input-5-c9a34ae3d8aa>:18: FutureWarning: Pass y=[3.0517578e-05 3.0517578e-05 3.0517578e-05 ... 0.0000000e+00 0.0000000e+00\n",
      " 0.0000000e+00] as keyword args. From version 0.10 passing these as positional arguments will result in an error\n",
      "  mel = np.mean(librosa.feature.melspectrogram(\n"
     ]
    },
    {
     "name": "stdout",
     "output_type": "stream",
     "text": [
      "Emotion Predicted: ['happy']\n"
     ]
    }
   ],
   "source": [
    "while True:\n",
    "    choice = int(input(\"Enter 1 to create and train model. \\nEnter 2 to record and predict audio. \\nEnter 3 to predict on pre-recorded audio. \\nEnter 4 to quit. \\n\"))\n",
    "    if choice == 1:\n",
    "        trainModel()\n",
    "    elif choice == 2:\n",
    "        record_predictAudio()\n",
    "    elif choice == 3:\n",
    "        predictAudio()\n",
    "    else:\n",
    "        quit()"
   ]
  },
  {
   "cell_type": "code",
   "execution_count": null,
   "id": "4ba80907",
   "metadata": {},
   "outputs": [],
   "source": []
  },
  {
   "cell_type": "code",
   "execution_count": null,
   "id": "f9195178",
   "metadata": {},
   "outputs": [],
   "source": []
  }
 ],
 "metadata": {
  "kernelspec": {
   "display_name": "Python 3",
   "language": "python",
   "name": "python3"
  },
  "language_info": {
   "codemirror_mode": {
    "name": "ipython",
    "version": 3
   },
   "file_extension": ".py",
   "mimetype": "text/x-python",
   "name": "python",
   "nbconvert_exporter": "python",
   "pygments_lexer": "ipython3",
   "version": "3.8.8"
  }
 },
 "nbformat": 4,
 "nbformat_minor": 5
}
